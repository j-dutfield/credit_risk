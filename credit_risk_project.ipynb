{
 "cells": [
  {
   "cell_type": "markdown",
   "id": "325ca475",
   "metadata": {},
   "source": [
    "Author: James Dutfield\n",
    "\n",
    "Date: 14/09/23\n",
    "\n",
    "Personal project to learn about credit risk as an ML problem. \n",
    "\n",
    "This notebook is only intended to be a brief experiment to reach a baseline ML model performance, and largely skips through many of the usual steps of a data science project (EDA, feature analysis etc).\n",
    "\n",
    "The KNN produced the best baseline results with the a 63% loan acceptance rate and a 2.6% default rate."
   ]
  },
  {
   "cell_type": "markdown",
   "id": "aed04775",
   "metadata": {},
   "source": [
    "# Task 1"
   ]
  },
  {
   "cell_type": "code",
   "execution_count": 1,
   "id": "4fad8701",
   "metadata": {},
   "outputs": [],
   "source": [
    "# import libraries\n",
    "\n",
    "# suppress warnings\n",
    "import warnings\n",
    "warnings.filterwarnings(\"ignore\")\n",
    "\n",
    "#import customs\n",
    "from config import *\n",
    "from util import *\n",
    "\n",
    "import os\n",
    "import pandas as pd\n",
    "import numpy as np\n",
    "import matplotlib.pyplot as plt\n",
    "\n",
    "# preproc\n",
    "from sklearn.base import BaseEstimator, TransformerMixin\n",
    "from sklearn.compose import ColumnTransformer\n",
    "from sklearn.preprocessing import OrdinalEncoder\n",
    "from sklearn.pipeline import Pipeline\n",
    "from sklearn.preprocessing import StandardScaler\n",
    "from imblearn.over_sampling import RandomOverSampler\n",
    "\n",
    "# models & metrics\n",
    "import xgboost as xgb\n",
    "from sklearn.linear_model import LogisticRegression\n",
    "from sklearn.neighbors import KNeighborsClassifier\n",
    "from sklearn.model_selection import RepeatedStratifiedKFold\n",
    "\n",
    "from sklearn.model_selection import train_test_split\n",
    "from sklearn.model_selection import GridSearchCV\n",
    "from sklearn.experimental import enable_halving_search_cv\n",
    "from sklearn.model_selection import HalvingGridSearchCV\n",
    "from sklearn.metrics import confusion_matrix\n",
    "from sklearn.metrics import classification_report, f1_score\n",
    "from sklearn.metrics import accuracy_score\n",
    "from sklearn.metrics import RocCurveDisplay"
   ]
  },
  {
   "cell_type": "code",
   "execution_count": 2,
   "id": "4685d5d9",
   "metadata": {},
   "outputs": [],
   "source": [
    "# import data\n",
    "features = pd.read_csv(\"features.csv\")\n",
    "targets = pd.read_csv(\"targets.csv\")"
   ]
  },
  {
   "cell_type": "markdown",
   "id": "18cad1ab",
   "metadata": {},
   "source": [
    "## Model Consideration & Research\n",
    "\n",
    "Quick research relating to how industry tackles credit risk problems to help inform model choices.\n",
    "\n",
    "Problem description: Supervised classification on a relatively small dataset (10,000)\n",
    "\n",
    "Model Choices for Assignment:\n",
    "- Logistic regression - I will almost always use this as my first model for supervised classification problems\n",
    "- KNN - often used for credit risk problems and typically performs well on datasets of this size.\n",
    "- XGBoost - best performance for credit risk on the same number of samples as per source (https://www.sciencedirect.com/science/article/pii/S1877050922001442).\n",
    "\n",
    "For these models, the most important evaluation metrics will be related to:\n",
    "- Recall: false negatives need to be low because of the high cost incurred when a customer defaults on their loan\n",
    "- Precision: false positives also need to be considered due to the cost of losing a customer due to flagging them as too high risk\n",
    "\n",
    "The optimal balance of precision & recall is out of scope (although recall is more important due to the relative cost of a customer defaulting hugely outweighing the profit of a successful contract completion).\n"
   ]
  },
  {
   "cell_type": "markdown",
   "id": "57afabaa",
   "metadata": {},
   "source": [
    "## First Look"
   ]
  },
  {
   "cell_type": "code",
   "execution_count": 3,
   "id": "99392a25",
   "metadata": {},
   "outputs": [
    {
     "data": {
      "text/html": [
       "<div>\n",
       "<style scoped>\n",
       "    .dataframe tbody tr th:only-of-type {\n",
       "        vertical-align: middle;\n",
       "    }\n",
       "\n",
       "    .dataframe tbody tr th {\n",
       "        vertical-align: top;\n",
       "    }\n",
       "\n",
       "    .dataframe thead th {\n",
       "        text-align: right;\n",
       "    }\n",
       "</style>\n",
       "<table border=\"1\" class=\"dataframe\">\n",
       "  <thead>\n",
       "    <tr style=\"text-align: right;\">\n",
       "      <th></th>\n",
       "      <th>customer_id</th>\n",
       "      <th>application_date</th>\n",
       "      <th>gender</th>\n",
       "      <th>unsatisfied_ccjs</th>\n",
       "      <th>age_oldest_active_account</th>\n",
       "      <th>cc_value_3m</th>\n",
       "      <th>worst_paystatus_24m</th>\n",
       "      <th>defaults</th>\n",
       "      <th>months_since_default</th>\n",
       "      <th>search_payday</th>\n",
       "      <th>deceased</th>\n",
       "    </tr>\n",
       "  </thead>\n",
       "  <tbody>\n",
       "    <tr>\n",
       "      <th>0</th>\n",
       "      <td>0</td>\n",
       "      <td>26/03/2019</td>\n",
       "      <td>M</td>\n",
       "      <td>0.0</td>\n",
       "      <td>190.0</td>\n",
       "      <td>NaN</td>\n",
       "      <td>D</td>\n",
       "      <td>14.0</td>\n",
       "      <td>19.0</td>\n",
       "      <td>0.0</td>\n",
       "      <td>0.0</td>\n",
       "    </tr>\n",
       "    <tr>\n",
       "      <th>1</th>\n",
       "      <td>1</td>\n",
       "      <td>29/03/2019</td>\n",
       "      <td>F</td>\n",
       "      <td>0.0</td>\n",
       "      <td>30.0</td>\n",
       "      <td>NaN</td>\n",
       "      <td>D</td>\n",
       "      <td>2.0</td>\n",
       "      <td>1.0</td>\n",
       "      <td>0.0</td>\n",
       "      <td>0.0</td>\n",
       "    </tr>\n",
       "    <tr>\n",
       "      <th>2</th>\n",
       "      <td>2</td>\n",
       "      <td>11/03/2019</td>\n",
       "      <td>F</td>\n",
       "      <td>0.0</td>\n",
       "      <td>39.0</td>\n",
       "      <td>NaN</td>\n",
       "      <td>U</td>\n",
       "      <td>1.0</td>\n",
       "      <td>31.0</td>\n",
       "      <td>0.0</td>\n",
       "      <td>0.0</td>\n",
       "    </tr>\n",
       "    <tr>\n",
       "      <th>3</th>\n",
       "      <td>3</td>\n",
       "      <td>07/06/2017</td>\n",
       "      <td>M</td>\n",
       "      <td>0.0</td>\n",
       "      <td>9.0</td>\n",
       "      <td>NaN</td>\n",
       "      <td>0</td>\n",
       "      <td>0.0</td>\n",
       "      <td>NaN</td>\n",
       "      <td>0.0</td>\n",
       "      <td>0.0</td>\n",
       "    </tr>\n",
       "    <tr>\n",
       "      <th>4</th>\n",
       "      <td>4</td>\n",
       "      <td>11/06/2017</td>\n",
       "      <td>F</td>\n",
       "      <td>0.0</td>\n",
       "      <td>121.0</td>\n",
       "      <td>NaN</td>\n",
       "      <td>U</td>\n",
       "      <td>2.0</td>\n",
       "      <td>46.0</td>\n",
       "      <td>0.0</td>\n",
       "      <td>0.0</td>\n",
       "    </tr>\n",
       "  </tbody>\n",
       "</table>\n",
       "</div>"
      ],
      "text/plain": [
       "   customer_id application_date gender  unsatisfied_ccjs  \\\n",
       "0            0       26/03/2019      M               0.0   \n",
       "1            1       29/03/2019      F               0.0   \n",
       "2            2       11/03/2019      F               0.0   \n",
       "3            3       07/06/2017      M               0.0   \n",
       "4            4       11/06/2017      F               0.0   \n",
       "\n",
       "   age_oldest_active_account  cc_value_3m worst_paystatus_24m  defaults  \\\n",
       "0                      190.0          NaN                   D      14.0   \n",
       "1                       30.0          NaN                   D       2.0   \n",
       "2                       39.0          NaN                   U       1.0   \n",
       "3                        9.0          NaN                   0       0.0   \n",
       "4                      121.0          NaN                   U       2.0   \n",
       "\n",
       "   months_since_default  search_payday  deceased  \n",
       "0                  19.0            0.0       0.0  \n",
       "1                   1.0            0.0       0.0  \n",
       "2                  31.0            0.0       0.0  \n",
       "3                   NaN            0.0       0.0  \n",
       "4                  46.0            0.0       0.0  "
      ]
     },
     "execution_count": 3,
     "metadata": {},
     "output_type": "execute_result"
    }
   ],
   "source": [
    "features.head()"
   ]
  },
  {
   "cell_type": "code",
   "execution_count": 4,
   "id": "d7abeda8",
   "metadata": {},
   "outputs": [
    {
     "data": {
      "text/html": [
       "<div>\n",
       "<style scoped>\n",
       "    .dataframe tbody tr th:only-of-type {\n",
       "        vertical-align: middle;\n",
       "    }\n",
       "\n",
       "    .dataframe tbody tr th {\n",
       "        vertical-align: top;\n",
       "    }\n",
       "\n",
       "    .dataframe thead th {\n",
       "        text-align: right;\n",
       "    }\n",
       "</style>\n",
       "<table border=\"1\" class=\"dataframe\">\n",
       "  <thead>\n",
       "    <tr style=\"text-align: right;\">\n",
       "      <th></th>\n",
       "      <th>customer_id</th>\n",
       "      <th>unsatisfied_ccjs</th>\n",
       "      <th>age_oldest_active_account</th>\n",
       "      <th>cc_value_3m</th>\n",
       "      <th>defaults</th>\n",
       "      <th>months_since_default</th>\n",
       "      <th>search_payday</th>\n",
       "      <th>deceased</th>\n",
       "    </tr>\n",
       "  </thead>\n",
       "  <tbody>\n",
       "    <tr>\n",
       "      <th>count</th>\n",
       "      <td>10000.00000</td>\n",
       "      <td>9997.000000</td>\n",
       "      <td>9878.000000</td>\n",
       "      <td>1226.000000</td>\n",
       "      <td>9975.000000</td>\n",
       "      <td>6380.000000</td>\n",
       "      <td>9975.000000</td>\n",
       "      <td>9975.000000</td>\n",
       "    </tr>\n",
       "    <tr>\n",
       "      <th>mean</th>\n",
       "      <td>4999.50000</td>\n",
       "      <td>0.436831</td>\n",
       "      <td>121.554566</td>\n",
       "      <td>473.814029</td>\n",
       "      <td>2.317293</td>\n",
       "      <td>29.580878</td>\n",
       "      <td>0.207218</td>\n",
       "      <td>0.002105</td>\n",
       "    </tr>\n",
       "    <tr>\n",
       "      <th>std</th>\n",
       "      <td>2886.89568</td>\n",
       "      <td>0.862110</td>\n",
       "      <td>71.547785</td>\n",
       "      <td>736.933828</td>\n",
       "      <td>2.912479</td>\n",
       "      <td>19.149969</td>\n",
       "      <td>0.828645</td>\n",
       "      <td>0.045837</td>\n",
       "    </tr>\n",
       "    <tr>\n",
       "      <th>min</th>\n",
       "      <td>0.00000</td>\n",
       "      <td>0.000000</td>\n",
       "      <td>1.000000</td>\n",
       "      <td>0.000000</td>\n",
       "      <td>0.000000</td>\n",
       "      <td>0.000000</td>\n",
       "      <td>0.000000</td>\n",
       "      <td>0.000000</td>\n",
       "    </tr>\n",
       "    <tr>\n",
       "      <th>25%</th>\n",
       "      <td>2499.75000</td>\n",
       "      <td>0.000000</td>\n",
       "      <td>72.000000</td>\n",
       "      <td>87.250000</td>\n",
       "      <td>0.000000</td>\n",
       "      <td>13.000000</td>\n",
       "      <td>0.000000</td>\n",
       "      <td>0.000000</td>\n",
       "    </tr>\n",
       "    <tr>\n",
       "      <th>50%</th>\n",
       "      <td>4999.50000</td>\n",
       "      <td>0.000000</td>\n",
       "      <td>110.000000</td>\n",
       "      <td>246.000000</td>\n",
       "      <td>1.000000</td>\n",
       "      <td>27.000000</td>\n",
       "      <td>0.000000</td>\n",
       "      <td>0.000000</td>\n",
       "    </tr>\n",
       "    <tr>\n",
       "      <th>75%</th>\n",
       "      <td>7499.25000</td>\n",
       "      <td>1.000000</td>\n",
       "      <td>157.000000</td>\n",
       "      <td>524.500000</td>\n",
       "      <td>4.000000</td>\n",
       "      <td>44.000000</td>\n",
       "      <td>0.000000</td>\n",
       "      <td>0.000000</td>\n",
       "    </tr>\n",
       "    <tr>\n",
       "      <th>max</th>\n",
       "      <td>9999.00000</td>\n",
       "      <td>9.000000</td>\n",
       "      <td>746.000000</td>\n",
       "      <td>6232.000000</td>\n",
       "      <td>24.000000</td>\n",
       "      <td>71.000000</td>\n",
       "      <td>15.000000</td>\n",
       "      <td>1.000000</td>\n",
       "    </tr>\n",
       "  </tbody>\n",
       "</table>\n",
       "</div>"
      ],
      "text/plain": [
       "       customer_id  unsatisfied_ccjs  age_oldest_active_account  cc_value_3m  \\\n",
       "count  10000.00000       9997.000000                9878.000000  1226.000000   \n",
       "mean    4999.50000          0.436831                 121.554566   473.814029   \n",
       "std     2886.89568          0.862110                  71.547785   736.933828   \n",
       "min        0.00000          0.000000                   1.000000     0.000000   \n",
       "25%     2499.75000          0.000000                  72.000000    87.250000   \n",
       "50%     4999.50000          0.000000                 110.000000   246.000000   \n",
       "75%     7499.25000          1.000000                 157.000000   524.500000   \n",
       "max     9999.00000          9.000000                 746.000000  6232.000000   \n",
       "\n",
       "          defaults  months_since_default  search_payday     deceased  \n",
       "count  9975.000000           6380.000000    9975.000000  9975.000000  \n",
       "mean      2.317293             29.580878       0.207218     0.002105  \n",
       "std       2.912479             19.149969       0.828645     0.045837  \n",
       "min       0.000000              0.000000       0.000000     0.000000  \n",
       "25%       0.000000             13.000000       0.000000     0.000000  \n",
       "50%       1.000000             27.000000       0.000000     0.000000  \n",
       "75%       4.000000             44.000000       0.000000     0.000000  \n",
       "max      24.000000             71.000000      15.000000     1.000000  "
      ]
     },
     "execution_count": 4,
     "metadata": {},
     "output_type": "execute_result"
    }
   ],
   "source": [
    "features.describe()"
   ]
  },
  {
   "cell_type": "markdown",
   "id": "eb53b723",
   "metadata": {},
   "source": [
    "# Initial thoughts looking at table & describe()\n",
    "\n",
    "\n",
    "- application date: can be broken into days of week, week of month, month of year etc\n",
    "- gender: encoding required (depending on model)\n",
    "- unsatisfied_ccjs: potential scaling/normalizing required depending on model used\n",
    "- age_oldest_active_account: potential scaling/normalizing required depending on model used\n",
    "- cc_value_3m: lots of NaNs. To replace NaNs with zeros on the assumption that in practice NaN is left over from the join used and means no accounts.\n",
    "- worst_paystatus_24m: Encoding required (depending on model), possibly multiple types\n",
    "- months_since_default: NaN when default = 0.0\n",
    "- search_payday: potential scaling/normalizing required depending on model used\n",
    "- deceased: Unsure on context. Initially interested to see if it results in defaults 100% of the time, in which case I would consider removing this from the model and having a rule that rejects all deceased=1.0 applications before it reaches the model. A quick check showed that deceased applications default less that 100% of the time, so the feature will be included going forward."
   ]
  },
  {
   "cell_type": "markdown",
   "id": "a66daedd",
   "metadata": {},
   "source": [
    "# Missing Number Check"
   ]
  },
  {
   "cell_type": "code",
   "execution_count": 5,
   "id": "33c92da7",
   "metadata": {},
   "outputs": [
    {
     "data": {
      "text/plain": [
       "customer_id                     0\n",
       "application_date                0\n",
       "gender                         85\n",
       "unsatisfied_ccjs                3\n",
       "age_oldest_active_account     122\n",
       "cc_value_3m                  8774\n",
       "worst_paystatus_24m           111\n",
       "defaults                       25\n",
       "months_since_default         3620\n",
       "search_payday                  25\n",
       "deceased                       25\n",
       "dtype: int64"
      ]
     },
     "execution_count": 5,
     "metadata": {},
     "output_type": "execute_result"
    }
   ],
   "source": [
    "### Missing number check\n",
    "\n",
    "features.isnull().sum()"
   ]
  },
  {
   "cell_type": "markdown",
   "id": "3fe6fec2",
   "metadata": {},
   "source": [
    "### Handling missing values\n",
    "\n",
    "Required for logistic regression & KNN models only.\n",
    "\n",
    "It may be appropriate to reject some credit applications before they reach the model if data is missing across multiple fields (giving us not enough information to evaluate the risk of that user). \n",
    "\n",
    "I will go forward assuming that this will NOT be the case, and that every application must pass through the model.\n",
    "\n",
    "In practice, these NaNs would be investigated to find the cause/context and then decide the appropriate action to take. However in this case I will take the following actions:\n",
    "\n",
    "Impute column mean:\n",
    "- gender\n",
    "- unsatisfied_ccjs -> low count\n",
    "- Defaults\n",
    "- Deceased\n",
    "- Search_payday\n",
    "\n",
    "Impute zeros:\n",
    "- CC_value_3m -> as discussed earlier\n",
    "- age_oldest_account -> perhaps because they have not had an account prior. If that's the case there is scope to add an addition field called 'first_account'->{1,0}\n",
    "\n",
    "Other:\n",
    "- worst_payment_status_24m -> convert all 'U' into NaN, encode column, and then impute column 'average'\n",
    "- Months_since_default -> difficult to deal with since NaN occurs on all cases where defaults=0.0. Considered replacing with -1, but that might trick the model into thinking that it was a 'very recent' default. Instead I will opt to impute a large number, slightly larger than the previous biggest in the dataset.\n"
   ]
  },
  {
   "cell_type": "code",
   "execution_count": 6,
   "id": "4cf06672",
   "metadata": {},
   "outputs": [
    {
     "data": {
      "text/plain": [
       "71.0"
      ]
     },
     "execution_count": 6,
     "metadata": {},
     "output_type": "execute_result"
    }
   ],
   "source": [
    "# with reference to comment above. Largest number for months since default is 71.0. \n",
    "# Will set 100.0 as the imputed replacement for missing values for this column.\n",
    "max(features['months_since_default'])"
   ]
  },
  {
   "cell_type": "markdown",
   "id": "4da0701a",
   "metadata": {},
   "source": [
    "# Distribution of Target Variable"
   ]
  },
  {
   "cell_type": "code",
   "execution_count": 7,
   "id": "e1af9d2c",
   "metadata": {},
   "outputs": [
    {
     "name": "stdout",
     "output_type": "stream",
     "text": [
      "Defaults: 1686\n",
      "No Default: 8314\n",
      "Defaults account for: 16.86% of the dataset\n"
     ]
    }
   ],
   "source": [
    "nd_count, d_count = list(targets['target'].value_counts())\n",
    "print(\"Defaults: \" + str(d_count))\n",
    "print(\"No Default: \" + str(nd_count))\n",
    "print(\"Defaults account for: \" + str((d_count/(nd_count+d_count))*100) + \"% of the dataset\")"
   ]
  },
  {
   "cell_type": "markdown",
   "id": "3e759adc",
   "metadata": {},
   "source": [
    "### Positive skew in target variable means that some form of oversampling would be appropriate."
   ]
  },
  {
   "cell_type": "markdown",
   "id": "337037f8",
   "metadata": {},
   "source": [
    "# Configure Preproc Transformations and Pipeline"
   ]
  },
  {
   "cell_type": "code",
   "execution_count": 8,
   "id": "e694f533",
   "metadata": {},
   "outputs": [],
   "source": [
    "# Individual transformer classes and column mappings taken from util.py and config.py\n",
    "\n",
    "EncodeAndMissingValues = ColumnTransformer(transformers=[\n",
    "    (\"EncodePaymentStatus\", EncodePaymentStatusAndImputeMean(), encode_payment_status_cols),\n",
    "    (\"EncodeOrdinal\", EncodeGenderAndImputeMean(), encode_ordinal_cols), \n",
    "    (\"Impute_Zeros\", ImputeZeros(), impute_zero_cols),\n",
    "    (\"Impute_Mean\", ImputeMean(), impute_average_cols),\n",
    "    ('Impute_100', ImputeHundred(), impute_100_cols),\n",
    "    ('returnFloat', returnFloat(), date_cols)\n",
    "])"
   ]
  },
  {
   "cell_type": "code",
   "execution_count": 9,
   "id": "1d492a2d",
   "metadata": {},
   "outputs": [],
   "source": [
    "# train / test split\n",
    "features = features.drop(columns=['customer_id'])\n",
    "targets = targets.drop(columns=['customer_id'])\n",
    "X_train, X_test, y_train, y_test = train_test_split(features, targets, test_size=0.30, random_state=42, shuffle=True)\n",
    "X_train, X_val, y_train, y_val = train_test_split(features, targets, test_size=0.15, random_state=66, shuffle=True)"
   ]
  },
  {
   "cell_type": "code",
   "execution_count": 10,
   "id": "80131709",
   "metadata": {},
   "outputs": [
    {
     "name": "stdout",
     "output_type": "stream",
     "text": [
      "target\n",
      "0.0       7040\n",
      "1.0       7040\n",
      "Name: count, dtype: int64\n"
     ]
    }
   ],
   "source": [
    "# oversample training dataset to balance target variable to 50%\n",
    "ros = RandomOverSampler(random_state=42, sampling_strategy=1.0)\n",
    "X_train, y_train = ros.fit_resample(X_train, y_train)\n",
    "print(y_train.value_counts())"
   ]
  },
  {
   "cell_type": "markdown",
   "id": "3c673d19",
   "metadata": {},
   "source": [
    "# Train Models"
   ]
  },
  {
   "cell_type": "code",
   "execution_count": 11,
   "id": "cd129b74",
   "metadata": {},
   "outputs": [],
   "source": [
    "# logistic regression\n",
    "\n",
    "lr = Pipeline([\n",
    "    ('encode_dates', DataframeFunctionTransformer(EncodeDates)),\n",
    "    ('encode_columns_and_handle_missing_values', EncodeAndMissingValues),\n",
    "    #('debug',Debug()),\n",
    "    ('standard_scaler', StandardScaler()),\n",
    "    ('model', LogisticRegression(random_state=0))\n",
    "])\n",
    "\n",
    "lr.fit(X_train, y_train)\n",
    "lr_pred = lr.predict(X_test)"
   ]
  },
  {
   "cell_type": "code",
   "execution_count": 12,
   "id": "9f078ee2",
   "metadata": {},
   "outputs": [],
   "source": [
    "# knn\n",
    "\n",
    "knn = Pipeline([\n",
    "    ('encode_dates', DataframeFunctionTransformer(EncodeDates)),\n",
    "    ('encode_columns_and_handle_missing_values', EncodeAndMissingValues),\n",
    "    ('standard_scaler', StandardScaler()),\n",
    "    ('model', KNeighborsClassifier())\n",
    "])\n",
    "\n",
    "knn.fit(X_train, y_train)\n",
    "knn_pred = knn.predict(X_test)"
   ]
  },
  {
   "cell_type": "code",
   "execution_count": 13,
   "id": "d4e69942",
   "metadata": {},
   "outputs": [],
   "source": [
    "# xgboost\n",
    "\n",
    "XGB = Pipeline([\n",
    "    ('encode_dates', DataframeFunctionTransformer(EncodeDates)),\n",
    "    ('encode_columns_and_handle_missing_values', EncodeAndMissingValues), # categorical not supported yet for classifier\n",
    "    ('model', xgb.XGBClassifier(n_estimators=200, learning_rate=0.03, eval_metric='auc'))\n",
    "])\n",
    "\n",
    "XGB.fit(X_train, y_train)\n",
    "XGB_pred = XGB.predict(X_test)"
   ]
  },
  {
   "cell_type": "markdown",
   "id": "c4841f4c",
   "metadata": {},
   "source": [
    "# Evaluate Models"
   ]
  },
  {
   "cell_type": "code",
   "execution_count": 14,
   "id": "c5da30df",
   "metadata": {},
   "outputs": [
    {
     "name": "stdout",
     "output_type": "stream",
     "text": [
      "Logistic Regression Report:\n",
      "tn = 1633\n",
      "fp = 834\n",
      "fn = 181\n",
      "tp = 352\n",
      "Model accepts this percentage of applications: 60.46666666666667\n",
      "Of those accepted, this percentage will default: 9.977949283351709\n",
      " \n",
      "KNN Report:\n",
      "tn = 1848\n",
      "fp = 619\n",
      "fn = 50\n",
      "tp = 483\n",
      "Model accepts this percentage of applications: 63.26666666666667\n",
      "Of those accepted, this percentage will default: 2.634351949420443\n",
      " \n",
      "XGB Report:\n",
      "tn = 1973\n",
      "fp = 494\n",
      "fn = 137\n",
      "tp = 396\n",
      "Model accepts this percentage of applications: 70.33333333333334\n",
      "Of those accepted, this percentage will default: 6.492890995260664\n"
     ]
    }
   ],
   "source": [
    "# All negative predictions are \"accepted applications\"\n",
    "# False negatives are the accepted applications that then default\n",
    "\n",
    "print(\"Logistic Regression Report:\")\n",
    "tn, fp, fn, tp = confusion_matrix(y_test, lr_pred).ravel()\n",
    "print(\"tn = \" + str(tn))\n",
    "print(\"fp = \" + str(fp))\n",
    "print(\"fn = \" + str(fn))\n",
    "print(\"tp = \" + str(tp))\n",
    "print(\"Model accepts this percentage of applications: \" + str(((fn+tn)/(tn+fp+fn+tp))*100))\n",
    "print(\"Of those accepted, this percentage will default: \" + str((fn/(tn+fn))*100))\n",
    "print(' ')\n",
    "\n",
    "print(\"KNN Report:\")\n",
    "tn, fp, fn, tp = confusion_matrix(y_test, knn_pred).ravel()\n",
    "print(\"tn = \" + str(tn))\n",
    "print(\"fp = \" + str(fp))\n",
    "print(\"fn = \" + str(fn))\n",
    "print(\"tp = \" + str(tp))\n",
    "print(\"Model accepts this percentage of applications: \" + str(((fn+tn)/(tn+fp+fn+tp))*100))\n",
    "print(\"Of those accepted, this percentage will default: \" + str((fn/(tn+fn))*100))\n",
    "print(' ')\n",
    "\n",
    "tn, fp, fn, tp\n",
    "print(\"XGB Report:\")\n",
    "tn, fp, fn, tp = confusion_matrix(y_test, XGB_pred).ravel()\n",
    "print(\"tn = \" + str(tn))\n",
    "print(\"fp = \" + str(fp))\n",
    "print(\"fn = \" + str(fn))\n",
    "print(\"tp = \" + str(tp))\n",
    "print(\"Model accepts this percentage of applications: \" + str(((fn+tn)/(tn+fp+fn+tp))*100))\n",
    "print(\"Of those accepted, this percentage will default: \" + str((fn/(tn+fn))*100))"
   ]
  },
  {
   "cell_type": "code",
   "execution_count": 15,
   "id": "87ec2856",
   "metadata": {},
   "outputs": [
    {
     "name": "stdout",
     "output_type": "stream",
     "text": [
      "Logistic Regression Report:\n",
      "              precision    recall  f1-score   support\n",
      "\n",
      "         0.0       0.90      0.66      0.76      2467\n",
      "         1.0       0.30      0.66      0.41       533\n",
      "\n",
      "    accuracy                           0.66      3000\n",
      "   macro avg       0.60      0.66      0.59      3000\n",
      "weighted avg       0.79      0.66      0.70      3000\n",
      "\n",
      " \n",
      "KNN Report:\n",
      "              precision    recall  f1-score   support\n",
      "\n",
      "         0.0       0.97      0.75      0.85      2467\n",
      "         1.0       0.44      0.91      0.59       533\n",
      "\n",
      "    accuracy                           0.78      3000\n",
      "   macro avg       0.71      0.83      0.72      3000\n",
      "weighted avg       0.88      0.78      0.80      3000\n",
      "\n",
      " \n",
      "XGB Report:\n",
      "              precision    recall  f1-score   support\n",
      "\n",
      "         0.0       0.94      0.80      0.86      2467\n",
      "         1.0       0.44      0.74      0.56       533\n",
      "\n",
      "    accuracy                           0.79      3000\n",
      "   macro avg       0.69      0.77      0.71      3000\n",
      "weighted avg       0.85      0.79      0.81      3000\n",
      "\n"
     ]
    }
   ],
   "source": [
    "print(\"Logistic Regression Report:\")\n",
    "print(classification_report(y_test, lr_pred))\n",
    "print(' ')\n",
    "\n",
    "print(\"KNN Report:\")\n",
    "print(classification_report(y_test, knn_pred))\n",
    "print(' ')\n",
    "\n",
    "print(\"XGB Report:\")\n",
    "print(classification_report(y_test, XGB_pred))"
   ]
  },
  {
   "cell_type": "markdown",
   "id": "b17478c5",
   "metadata": {},
   "source": [
    "### KNN is the best model\n",
    "\n",
    "Despite having a slightly lower accuracy than XGBoost (KNN = 0.78 vs XGBoost = 0.79) the precision for negative labels is far better for KNN which leads to fewer defaults on accepted loan applications.\n",
    "\n",
    "Of applications accepted, only 2.6% will default for KNN, compared to 6.5% for XGBoost and 10% for Logistic Regression. This is the most important metric to consider.\n",
    "\n",
    "There is a balance that needs to me made between the number of applications accepted and the default rate. In principle, the more loans you accept the higher your revenue, but the higher the default rate the more the defaults eat into your profits. The XGBoost model accepts 7% more loans than the KNN model (70% vs 63% respectively), however it has a 270% higher default rate. \n",
    "\n",
    "This means that despite accepting fewer loan applications, a service using the KNN model will be vastly more profitable than for the XGBoost model (except perhaps if the service is high volume, low value, high interest loans, e.g payday loans).\n",
    "\n",
    "For a commercial model the acceptance rate and default rate would need to be better, however as a first try on a small dataset, I'm happy with the results. "
   ]
  },
  {
   "cell_type": "code",
   "execution_count": 16,
   "id": "15e5ee3d",
   "metadata": {},
   "outputs": [
    {
     "name": "stdout",
     "output_type": "stream",
     "text": [
      "              precision    recall  f1-score   support\n",
      "\n",
      "         0.0       0.98      0.77      0.86      7040\n",
      "         1.0       0.81      0.98      0.89      7040\n",
      "\n",
      "    accuracy                           0.88     14080\n",
      "   macro avg       0.89      0.88      0.87     14080\n",
      "weighted avg       0.89      0.88      0.87     14080\n",
      "\n"
     ]
    },
    {
     "data": {
      "image/png": "[encoded data removed]",
      "text/plain": [
       "<Figure size 640x480 with 1 Axes>"
      ]
     },
     "metadata": {},
     "output_type": "display_data"
    }
   ],
   "source": [
    "custom_model_eval(knn, X_train, y_train)"
   ]
  },
  {
   "cell_type": "code",
   "execution_count": 17,
   "id": "d8507616",
   "metadata": {},
   "outputs": [
    {
     "name": "stdout",
     "output_type": "stream",
     "text": [
      "              precision    recall  f1-score   support\n",
      "\n",
      "         0.0       0.97      0.75      0.85      2467\n",
      "         1.0       0.44      0.91      0.59       533\n",
      "\n",
      "    accuracy                           0.78      3000\n",
      "   macro avg       0.71      0.83      0.72      3000\n",
      "weighted avg       0.88      0.78      0.80      3000\n",
      "\n"
     ]
    },
    {
     "data": {
      "image/png": "[encoded data removed]",
      "text/plain": [
       "<Figure size 640x480 with 1 Axes>"
      ]
     },
     "metadata": {},
     "output_type": "display_data"
    }
   ],
   "source": [
    "custom_model_eval(knn, X_test, y_test)"
   ]
  },
  {
   "cell_type": "markdown",
   "id": "f8f2d682",
   "metadata": {},
   "source": [
    "Analysing the KNN model further, the roc curves above show reasonably impressive results, with a AUC of 0.92 on the test dataset.\n",
    "\n",
    "There is a slight overfit with the training score achieving an auc of 0.98 compared to 0.92 for the test dataset. This will be improved upon with hyperparameter tuning, cross-validation and using a larger dataset."
   ]
  },
  {
   "cell_type": "code",
   "execution_count": 18,
   "id": "492deb92",
   "metadata": {},
   "outputs": [
    {
     "name": "stdout",
     "output_type": "stream",
     "text": [
      "f0: worst_paystatus_24m\n",
      "f1: gender\n",
      "f2: cc_value_3m\n",
      "f3: dayofmonth\n",
      "f4: unsatisfied_ccjs\n",
      "f5: defaults\n",
      "f6: search_payday\n",
      "f7: deceased\n",
      "f8: months_since_default\n",
      "f9: dayofweek\n",
      "f10: dayofmonth\n",
      "f11: month\n",
      "f12: year\n"
     ]
    },
    {
     "data": {
      "image/png": "[encoded data removed]",
      "text/plain": [
       "<Figure size 640x480 with 1 Axes>"
      ]
     },
     "metadata": {},
     "output_type": "display_data"
    },
    {
     "data": {
      "text/plain": [
       "<Figure size 1600x1200 with 0 Axes>"
      ]
     },
     "metadata": {},
     "output_type": "display_data"
    }
   ],
   "source": [
    "feature_importance(XGB, feature_order)"
   ]
  },
  {
   "cell_type": "markdown",
   "id": "f152333d",
   "metadata": {},
   "source": [
    "Above is a view of feature importance for the XGBoost model. Although KNN was the best model, it can be interesting to view model feature importance - and XGBoost has great built in tools for this due to being a tree-based approach.\n",
    "\n",
    "It can be seen that the day of the month that the application was made, and the months since last default are the best indicators for whether or not someone is likely to default on their loan."
   ]
  },
  {
   "cell_type": "markdown",
   "id": "897d0f97",
   "metadata": {},
   "source": [
    "### Optimising XGBoost \n",
    "\n",
    "This was an an additional experiment to see if XGBoost could be optimised to beat the KNN model, however it didn't yield any significant improvement."
   ]
  },
  {
   "cell_type": "code",
   "execution_count": null,
   "id": "68f2489d",
   "metadata": {},
   "outputs": [],
   "source": [
    "# this cell may take some time to run\n",
    "\n",
    "XGB = Pipeline([\n",
    "    ('encode_dates', DataframeFunctionTransformer(EncodeDates)),\n",
    "    ('encode_columns_and_handle_missing_values', EncodeAndMissingValues), # categorical not supported yet for classifier\n",
    "    ('model', xgb.XGBClassifier(n_estimators=200, learning_rate=0.03, objective='binary:logistic'))\n",
    "])\n",
    "\n",
    "parameters = {\n",
    "    'model__max_depth': [3, 4, 5],\n",
    "    'model__n_estimators': [100, 150, 200, 300],\n",
    "    'model__learning_rate': [0.01, 0.05, 0.1],\n",
    "    'model__alpha': [0, 2, 5, 10]\n",
    "}\n",
    "\n",
    "cv = RepeatedStratifiedKFold(n_splits=5, n_repeats=3, random_state=12)\n",
    "GS = HalvingGridSearchCV(estimator=XGB, param_grid=parameters, cv=cv, scoring='roc_auc', min_resources='exhaust', verbose=False) #,error_score=0\n",
    "\n",
    "GS.fit(X_train, y_train)\n",
    "\n",
    "print(GS.best_estimator_.get_params()['model'])\n",
    "print(\" \")\n",
    "print(\"XGB Report:\")\n",
    "best_XGB = GS.best_estimator_\n",
    "XGB_pred = best_XGB.predict(X_test)\n",
    "print(classification_report(y_test, XGB_pred))"
   ]
  },
  {
   "cell_type": "code",
   "execution_count": null,
   "id": "10f260dd",
   "metadata": {},
   "outputs": [],
   "source": [
    "results = best_XGB[2].evals_result()\n",
    "custom_learning_curve(results)"
   ]
  },
  {
   "cell_type": "code",
   "execution_count": null,
   "id": "1713d6ef",
   "metadata": {},
   "outputs": [],
   "source": [
    "custom_model_eval(final_XGB, X_test, y_test)"
   ]
  },
  {
   "cell_type": "code",
   "execution_count": null,
   "id": "55785d9f",
   "metadata": {},
   "outputs": [],
   "source": [
    "custom_model_eval(XGB, X_train, y_train)"
   ]
  },
  {
   "cell_type": "code",
   "execution_count": null,
   "id": "3cd467ad",
   "metadata": {},
   "outputs": [],
   "source": [
    "custom_model_eval(XGB, X_test, y_test)"
   ]
  },
  {
   "cell_type": "markdown",
   "id": "8bc9d2fb",
   "metadata": {},
   "source": [
    "# Next Steps"
   ]
  },
  {
   "cell_type": "markdown",
   "id": "fc50dfd9",
   "metadata": {},
   "source": [
    "- EDA & feature analysis\n",
    "- Model fine tuning including\n",
    "- Using a larger dataset\n",
    "- Look to incorporate more data fields\n",
    "- It might prove effective to use GANs to upsample the dataset before training on XGBoost, as shown in the following paper https://www.tandfonline.com/doi/full/10.1080/08839514.2021.1987707\n",
    "- KNN Imputer to deal with missing values.\n",
    "- Experiment with unsupervised techniques."
   ]
  }
 ],
 "metadata": {
  "kernelspec": {
   "display_name": "fpl_env",
   "language": "python",
   "name": "fpl_env"
  },
  "language_info": {
   "codemirror_mode": {
    "name": "ipython",
    "version": 3
   },
   "file_extension": ".py",
   "mimetype": "text/x-python",
   "name": "python",
   "nbconvert_exporter": "python",
   "pygments_lexer": "ipython3",
   "version": "3.9.0"
  }
 },
 "nbformat": 4,
 "nbformat_minor": 5
}
